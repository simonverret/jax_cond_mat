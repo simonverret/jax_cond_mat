{
 "cells": [
  {
   "cell_type": "markdown",
   "metadata": {
    "editable": true,
    "slideshow": {
     "slide_type": "slide"
    },
    "tags": []
   },
   "source": [
    "# Condensed Matter Intro \n",
    "# to Jax and Autodiff\n",
    "___\n",
    "\n",
    "Simon Verret\n",
    "\n",
    "April 24th, 2025"
   ]
  },
  {
   "cell_type": "code",
   "execution_count": null,
   "metadata": {
    "editable": true,
    "slideshow": {
     "slide_type": "fragment"
    },
    "tags": []
   },
   "outputs": [],
   "source": [
    "import os\n",
    "from math import pi\n",
    "os.environ['XLA_FLAGS'] = '--xla_force_host_platform_device_count=8'\n",
    "\n",
    "import numpy as np\n",
    "import matplotlib.pyplot as plt\n",
    "np.set_printoptions(precision=5, suppress=True)"
   ]
  },
  {
   "cell_type": "markdown",
   "metadata": {
    "editable": true,
    "slideshow": {
     "slide_type": "slide"
    },
    "tags": []
   },
   "source": [
    "# The `numpy` grid dillemma\n",
    "___"
   ]
  },
  {
   "cell_type": "code",
   "execution_count": null,
   "metadata": {
    "editable": true,
    "slideshow": {
     "slide_type": "fragment"
    },
    "tags": []
   },
   "outputs": [],
   "source": [
    "list_kx = np.linspace(-pi, pi, 1000)\n",
    "list_ky = np.linspace(-pi, pi, 1000)\n",
    "\n",
    "print(f\"\"\"\n",
    "    list_kx.shape: {list_kx.shape}\n",
    "    list_ky.shape: {list_ky.shape}\n",
    "\"\"\")"
   ]
  },
  {
   "cell_type": "code",
   "execution_count": null,
   "metadata": {
    "editable": true,
    "slideshow": {
     "slide_type": "fragment"
    },
    "tags": []
   },
   "outputs": [],
   "source": [
    "grid_kx, grid_ky = np.meshgrid(\n",
    "    np.linspace(-pi, pi, 1000),\n",
    "    np.linspace(-pi, pi, 1000),\n",
    ")\n",
    "\n",
    "print(f\"\"\"\n",
    "    grid_kx.shape: {grid_kx.shape}\n",
    "    grid_kx.shape: {grid_ky.shape}\n",
    "\"\"\")"
   ]
  },
  {
   "cell_type": "code",
   "execution_count": null,
   "metadata": {
    "editable": true,
    "slideshow": {
     "slide_type": "subslide"
    },
    "tags": []
   },
   "outputs": [],
   "source": [
    "k_grid = np.stack([grid_kx, grid_ky])\n",
    "\n",
    "print(f\"\"\"\n",
    "    k_grid.shape: {k_grid.shape}\n",
    "\"\"\")"
   ]
  },
  {
   "cell_type": "code",
   "execution_count": null,
   "metadata": {
    "editable": true,
    "slideshow": {
     "slide_type": "fragment"
    },
    "tags": []
   },
   "outputs": [],
   "source": [
    "grid_k = np.stack([grid_kx, grid_ky], axis=-1)\n",
    "\n",
    "print(f\"\"\"\n",
    "    grid_k.shape: {grid_k.shape}\n",
    "\"\"\")"
   ]
  },
  {
   "cell_type": "markdown",
   "metadata": {
    "editable": true,
    "slideshow": {
     "slide_type": "slide"
    },
    "tags": []
   },
   "source": [
    "# Dispersion\n",
    "___"
   ]
  },
  {
   "cell_type": "code",
   "execution_count": null,
   "metadata": {
    "editable": true,
    "slideshow": {
     "slide_type": "fragment"
    },
    "tags": []
   },
   "outputs": [],
   "source": [
    "def naive_dispersion(k, t=1, tp=-0.3, tpp=0.2, mu=-0.9):\n",
    "    return (\n",
    "        -2 * t * (np.cos(k[0]) + np.cos(k[1])) \n",
    "        -4 * tp * np.cos(k[0])*np.cos(k[1]) \n",
    "        -2 * tpp * (np.cos(2*k[0]) + np.cos(2*k[1]))\n",
    "        - mu\n",
    "    )"
   ]
  },
  {
   "cell_type": "code",
   "execution_count": null,
   "metadata": {
    "editable": true,
    "slideshow": {
     "slide_type": "fragment"
    },
    "tags": []
   },
   "outputs": [],
   "source": [
    "def loop_dispersion(grid_k):\n",
    "    nx, ny, d = grid_k.shape\n",
    "    result = np.empty(shape=(nx,ny))\n",
    "    for i in range(nx):\n",
    "        for j in range(ny):\n",
    "            result[i,j] = naive_dispersion(grid_k[i,j]) \n",
    "    return result\n",
    "\n",
    "print(f\"\"\"\n",
    "    loop k_grid works: {loop_dispersion(grid_k).shape}\n",
    "\"\"\")"
   ]
  },
  {
   "cell_type": "code",
   "execution_count": null,
   "metadata": {
    "editable": true,
    "slideshow": {
     "slide_type": "subslide"
    },
    "tags": []
   },
   "outputs": [],
   "source": [
    "fig = plt.figure(figsize=(4,3))\n",
    "ax = fig.add_subplot(111, projection='3d')\n",
    "ax.plot_surface(grid_kx, grid_ky, loop_dispersion(grid_k), cmap='coolwarm')\n",
    "ax.set_xlabel('$k_x$')\n",
    "ax.set_ylabel('$k_y$')\n",
    "ax.set_title('$\\\\xi(\\\\boldsymbol{k})$')\n",
    "plt.show()"
   ]
  },
  {
   "cell_type": "code",
   "execution_count": null,
   "metadata": {
    "editable": true,
    "slideshow": {
     "slide_type": "fragment"
    },
    "tags": []
   },
   "outputs": [],
   "source": [
    "%timeit loop_dispersion(grid_k)"
   ]
  },
  {
   "cell_type": "code",
   "execution_count": null,
   "metadata": {
    "editable": true,
    "slideshow": {
     "slide_type": "subslide"
    },
    "tags": []
   },
   "outputs": [],
   "source": [
    "grid_ek = naive_dispersion(k_grid)\n",
    "\n",
    "print(f\"\"\"\n",
    "    recall k_grid.shape = { k_grid.shape }\n",
    "    direct call on k_grid works: { naive_dispersion(k_grid).shape }\n",
    "\"\"\")"
   ]
  },
  {
   "cell_type": "code",
   "execution_count": null,
   "metadata": {
    "editable": true,
    "slideshow": {
     "slide_type": "fragment"
    },
    "tags": []
   },
   "outputs": [],
   "source": [
    "%timeit naive_dispersion(k_grid)"
   ]
  },
  {
   "cell_type": "code",
   "execution_count": null,
   "metadata": {
    "editable": true,
    "slideshow": {
     "slide_type": "subslide"
    },
    "tags": []
   },
   "outputs": [],
   "source": [
    "print(f\"\"\"\n",
    "    recall grid_k.shape = { grid_k.shape }\n",
    "    direct call on grid_k FAILS: { naive_dispersion(grid_k).shape }\n",
    "\"\"\")"
   ]
  },
  {
   "cell_type": "code",
   "execution_count": null,
   "metadata": {
    "editable": true,
    "slideshow": {
     "slide_type": "fragment"
    },
    "tags": []
   },
   "outputs": [],
   "source": [
    "def dispersion_for_grid(k, t=1, tp=-0.3, tpp=0.2, mu=0):\n",
    "    kx, ky = np.split(k, 2, axis=-1)\n",
    "    epsilon =  (\n",
    "        -2 * t * (np.cos(kx) + np.cos(ky)) \n",
    "        -4 * tp * np.cos(kx)*np.cos(ky) \n",
    "        -2 * tpp * (np.cos(2*kx) + np.cos(2*ky))\n",
    "    )\n",
    "    return (epsilon - mu).squeeze()\n",
    "\n",
    "print(f\"\"\"    \n",
    "    recall grid_k.shape = { grid_k.shape }\n",
    "    dispersion_for_grid on grid_k works: {dispersion_for_grid(grid_k).shape}\n",
    "\"\"\")"
   ]
  },
  {
   "cell_type": "code",
   "execution_count": null,
   "metadata": {
    "editable": true,
    "slideshow": {
     "slide_type": "fragment"
    },
    "tags": []
   },
   "outputs": [],
   "source": [
    "%timeit dispersion_for_grid(grid_k)"
   ]
  },
  {
   "cell_type": "markdown",
   "metadata": {
    "editable": true,
    "slideshow": {
     "slide_type": "slide"
    },
    "tags": []
   },
   "source": [
    "# Enters JAX\n",
    "___"
   ]
  },
  {
   "cell_type": "code",
   "execution_count": null,
   "metadata": {
    "editable": true,
    "slideshow": {
     "slide_type": "fragment"
    },
    "tags": []
   },
   "outputs": [],
   "source": [
    "import jax\n",
    "import jax.numpy as jnp\n",
    "\n",
    "def jax_naive_dispersion(k, t=1, tp=-0.3, tpp=0.2, mu=0):\n",
    "    return (\n",
    "        -2 * t * (jnp.cos(k[0]) + jnp.cos(k[1])) \n",
    "        -4 * tp * jnp.cos(k[0])*jnp.cos(k[1]) \n",
    "        -2 * tpp * (jnp.cos(2*k[0]) + jnp.cos(2*k[1]))\n",
    "        - mu\n",
    "    )\n",
    "\n",
    "print(f\"\"\"\n",
    "    recall k_grid.shape = { k_grid.shape }\n",
    "    jax_naive on k_grid works: {jax_naive_dispersion(k_grid).shape}\n",
    "\"\"\")"
   ]
  },
  {
   "cell_type": "code",
   "execution_count": null,
   "metadata": {
    "editable": true,
    "slideshow": {
     "slide_type": "fragment"
    },
    "tags": []
   },
   "outputs": [],
   "source": [
    "%timeit jax_naive_dispersion(k_grid).block_until_ready()"
   ]
  },
  {
   "cell_type": "markdown",
   "metadata": {
    "editable": true,
    "slideshow": {
     "slide_type": "slide"
    },
    "tags": []
   },
   "source": [
    "## `vmap`"
   ]
  },
  {
   "cell_type": "code",
   "execution_count": null,
   "metadata": {
    "editable": true,
    "slideshow": {
     "slide_type": "fragment"
    },
    "tags": []
   },
   "outputs": [],
   "source": [
    "from jax import vmap"
   ]
  },
  {
   "cell_type": "code",
   "execution_count": null,
   "metadata": {
    "editable": true,
    "slideshow": {
     "slide_type": "fragment"
    },
    "tags": []
   },
   "outputs": [],
   "source": [
    "vmap_naive = vmap(vmap(jax_naive_dispersion))\n",
    "\n",
    "print(f\"\"\"\n",
    "    recall grid_k.shape = { grid_k.shape }\n",
    "    vmap_naive on grid_k works: {vmap_naive(grid_k).shape}\n",
    "\"\"\")"
   ]
  },
  {
   "cell_type": "code",
   "execution_count": null,
   "metadata": {
    "editable": true,
    "scrolled": true,
    "slideshow": {
     "slide_type": "subslide"
    },
    "tags": []
   },
   "outputs": [],
   "source": [
    "%timeit vmap_naive(grid_k).block_until_ready()"
   ]
  },
  {
   "cell_type": "code",
   "execution_count": null,
   "metadata": {
    "editable": true,
    "slideshow": {
     "slide_type": "fragment"
    },
    "tags": []
   },
   "outputs": [],
   "source": [
    "def jax_dispersion_for_grid(k, t=1, tp=-0.3, tpp=0.2, mu=0):\n",
    "    kx, ky = jnp.split(k, 2, axis=-1)\n",
    "    epsilon =  (\n",
    "        -2 * t * (jnp.cos(kx) + jnp.cos(ky)) \n",
    "        -4 * tp * jnp.cos(kx)*jnp.cos(ky) \n",
    "        -2 * tpp * (jnp.cos(2*kx) + jnp.cos(2*ky))\n",
    "    )\n",
    "    return (epsilon - mu).squeeze()\n",
    "\n",
    "print(f\"\"\"\n",
    "    recall grid_k.shape = { grid_k.shape }\n",
    "    jax made for grid_k works: { jax_dispersion_for_grid(grid_k).shape }\n",
    "\"\"\")"
   ]
  },
  {
   "cell_type": "code",
   "execution_count": null,
   "metadata": {
    "editable": true,
    "slideshow": {
     "slide_type": "fragment"
    },
    "tags": []
   },
   "outputs": [],
   "source": [
    "%timeit jax_dispersion_for_grid(grid_k).block_until_ready()"
   ]
  },
  {
   "cell_type": "markdown",
   "metadata": {
    "editable": true,
    "slideshow": {
     "slide_type": "slide"
    },
    "tags": []
   },
   "source": [
    "## `jax.jit`"
   ]
  },
  {
   "cell_type": "code",
   "execution_count": null,
   "metadata": {
    "editable": true,
    "slideshow": {
     "slide_type": "fragment"
    },
    "tags": []
   },
   "outputs": [],
   "source": [
    "from jax import jit"
   ]
  },
  {
   "cell_type": "code",
   "execution_count": null,
   "metadata": {
    "editable": true,
    "slideshow": {
     "slide_type": "fragment"
    },
    "tags": []
   },
   "outputs": [],
   "source": [
    "jit_naive = jit(jax_naive_dispersion)\n",
    "\n",
    "print(f\"\"\"\n",
    "    recall k_grid.shape = { k_grid.shape }\n",
    "    jit_naive on k_grid: {jit_naive(k_grid).shape}\n",
    "\"\"\")"
   ]
  },
  {
   "cell_type": "code",
   "execution_count": null,
   "metadata": {
    "editable": true,
    "slideshow": {
     "slide_type": "fragment"
    },
    "tags": []
   },
   "outputs": [],
   "source": [
    "%timeit jit_naive(k_grid).block_until_ready()"
   ]
  },
  {
   "cell_type": "code",
   "execution_count": null,
   "metadata": {
    "editable": true,
    "slideshow": {
     "slide_type": "subslide"
    },
    "tags": []
   },
   "outputs": [],
   "source": [
    "jit_vmap_naive = jit(vmap(vmap(jax_naive_dispersion)))\n",
    "\n",
    "print(f\"\"\"\n",
    "    recall grid_k.shape = { grid_k.shape }  \n",
    "    jit_vmap_naive on grid_k works: { jit_vmap_naive(grid_k).shape }\n",
    "\"\"\")"
   ]
  },
  {
   "cell_type": "code",
   "execution_count": null,
   "metadata": {
    "editable": true,
    "slideshow": {
     "slide_type": "fragment"
    },
    "tags": []
   },
   "outputs": [],
   "source": [
    "%timeit jit_vmap_naive(grid_k).block_until_ready()"
   ]
  },
  {
   "cell_type": "code",
   "execution_count": null,
   "metadata": {
    "editable": true,
    "slideshow": {
     "slide_type": "subslide"
    },
    "tags": []
   },
   "outputs": [],
   "source": [
    "jit_for_grid = jit(jax_dispersion_for_grid)\n",
    "\n",
    "print(f\"\"\"\n",
    "    recall grid_k.shape = { grid_k.shape }  \n",
    "    jit_for_grid works: {jit_for_grid(grid_k).shape}\n",
    "\"\"\")"
   ]
  },
  {
   "cell_type": "code",
   "execution_count": null,
   "metadata": {
    "editable": true,
    "slideshow": {
     "slide_type": "fragment"
    },
    "tags": []
   },
   "outputs": [],
   "source": [
    "%timeit jit_for_grid(grid_k).block_until_ready()"
   ]
  },
  {
   "cell_type": "markdown",
   "metadata": {
    "editable": true,
    "slideshow": {
     "slide_type": "slide"
    },
    "tags": []
   },
   "source": [
    "### Compared to `numba`"
   ]
  },
  {
   "cell_type": "code",
   "execution_count": null,
   "metadata": {
    "editable": true,
    "slideshow": {
     "slide_type": "fragment"
    },
    "tags": []
   },
   "outputs": [],
   "source": [
    "import numba\n",
    "\n",
    "numba.njit()\n",
    "def numba_naive(k, t=1, tp=-0.3, tpp=0.2, mu=0):\n",
    "    epsilon =  (\n",
    "        -2 * t * (jnp.cos(k[0]) + jnp.cos(k[1])) \n",
    "        -4 * tp * jnp.cos(k[0])*jnp.cos(k[1]) \n",
    "        -2 * tpp * (jnp.cos(2*k[0]) + jnp.cos(2*k[1]))\n",
    "    )\n",
    "    return epsilon - mu\n",
    "\n",
    "print(f\"\"\"\n",
    "    recall k_grid.shape = { k_grid.shape }  \n",
    "    numba on k_grid works: {numba_naive(k_grid).shape}\n",
    "\"\"\")"
   ]
  },
  {
   "cell_type": "code",
   "execution_count": null,
   "metadata": {
    "editable": true,
    "slideshow": {
     "slide_type": "fragment"
    },
    "tags": []
   },
   "outputs": [],
   "source": [
    "%timeit numba_naive(k_grid)"
   ]
  },
  {
   "cell_type": "markdown",
   "metadata": {
    "editable": true,
    "slideshow": {
     "slide_type": "slide"
    },
    "tags": []
   },
   "source": [
    "## `jax.pmap`"
   ]
  },
  {
   "cell_type": "code",
   "execution_count": null,
   "metadata": {
    "editable": true,
    "slideshow": {
     "slide_type": "fragment"
    },
    "tags": []
   },
   "outputs": [],
   "source": [
    "num_threads = jax.local_device_count()\n",
    "Nx, Ny, d = grid_k.shape\n",
    "newNx = Nx // num_threads\n",
    "\n",
    "jax_paralelized_dispersion = jax.pmap(jax_dispersion_for_grid)\n",
    "p_grid_k = grid_k.reshape(num_threads, newNx, Ny, d)\n",
    "\n",
    "print(f\"\"\"\n",
    "    Number of devices detected: {num_threads}\n",
    "    1000hape p_grid_k accordingly: {p_grid_k.shape}\n",
    "    jax paralelized works: {jax_paralelized_dispersion(p_grid_k).shape}\n",
    "\"\"\")"
   ]
  },
  {
   "cell_type": "code",
   "execution_count": null,
   "metadata": {
    "editable": true,
    "slideshow": {
     "slide_type": "fragment"
    },
    "tags": []
   },
   "outputs": [],
   "source": [
    "%timeit jax_paralelized_dispersion(p_grid_k).reshape(Nx, Ny).block_until_ready()"
   ]
  },
  {
   "cell_type": "markdown",
   "metadata": {
    "editable": true,
    "slideshow": {
     "slide_type": "slide"
    },
    "tags": []
   },
   "source": [
    "## To good to be true? Yes!"
   ]
  },
  {
   "cell_type": "code",
   "execution_count": null,
   "metadata": {
    "editable": true,
    "slideshow": {
     "slide_type": "fragment"
    },
    "tags": []
   },
   "outputs": [],
   "source": [
    "low_res_grid_k = np.stack(np.meshgrid(\n",
    "        np.linspace(-pi, pi, 100),\n",
    "        np.linspace(-pi, pi, 100)\n",
    "    ), axis=-1)"
   ]
  },
  {
   "cell_type": "code",
   "execution_count": null,
   "metadata": {
    "editable": true,
    "slideshow": {
     "slide_type": "fragment"
    },
    "tags": []
   },
   "outputs": [],
   "source": [
    "def jax_loop_dispersion_for_grid(grid_k):\n",
    "    nx, ny, _ = grid_k.shape\n",
    "    result = jnp.empty(shape=(nx, ny))\n",
    "    for i in range(nx):\n",
    "        for j in range(ny):\n",
    "            result[i,j] = jax_naive_dispersion(grid_k[i,j])\n",
    "            # result.at[i,j].set(jax_naive_dispersion(grid_k[i,j])) \n",
    "    return result\n",
    "\n",
    "jit_loop = jit(jax_loop_dispersion_for_grid)\n",
    "\n",
    "print(f\"jax made for grid_k works: {jit_loop(low_res_grid_k).shape}\")"
   ]
  },
  {
   "cell_type": "code",
   "execution_count": null,
   "metadata": {
    "editable": true,
    "slideshow": {
     "slide_type": "fragment"
    },
    "tags": []
   },
   "outputs": [],
   "source": [
    "%timeit jit_loop(low_res_grid_k).block_until_ready()"
   ]
  },
  {
   "cell_type": "markdown",
   "metadata": {
    "editable": true,
    "slideshow": {
     "slide_type": "slide"
    },
    "tags": []
   },
   "source": [
    "# Autodifferentiation\n",
    "___"
   ]
  },
  {
   "cell_type": "markdown",
   "metadata": {
    "editable": true,
    "slideshow": {
     "slide_type": "fragment"
    },
    "tags": []
   },
   "source": [
    "## `jax.grad`"
   ]
  },
  {
   "cell_type": "code",
   "execution_count": null,
   "metadata": {
    "editable": true,
    "slideshow": {
     "slide_type": "fragment"
    },
    "tags": []
   },
   "outputs": [],
   "source": [
    "from jax import grad"
   ]
  },
  {
   "cell_type": "code",
   "execution_count": null,
   "metadata": {
    "editable": true,
    "slideshow": {
     "slide_type": "fragment"
    },
    "tags": []
   },
   "outputs": [],
   "source": [
    "k_point = np.array([pi/4,pi])\n",
    "\n",
    "grad_k_dispersion = grad(jax_naive_dispersion)\n",
    "\n",
    "print(f\"\"\"\n",
    "    grad value : {grad_k_dispersion(k_point)}\n",
    "\"\"\")"
   ]
  },
  {
   "cell_type": "markdown",
   "metadata": {
    "editable": true,
    "slideshow": {
     "slide_type": "subslide"
    },
    "tags": []
   },
   "source": [
    "Autodifferentiation IS NOT finite differences"
   ]
  },
  {
   "cell_type": "code",
   "execution_count": null,
   "metadata": {
    "editable": true,
    "slideshow": {
     "slide_type": "subslide"
    },
    "tags": []
   },
   "outputs": [],
   "source": [
    "def finite_diff_grad_k_dispersion(k, dk=1e-4): \n",
    "    dkx = np.array([dk,0])\n",
    "    ek_plus_dkx = jax_naive_dispersion(k_point + dkx)\n",
    "    ek_minus_dkx = jax_naive_dispersion(k_point - dkx)\n",
    "    grad_kx_ek = (ek_plus_dkx - ek_minus_dkx)/(2*dk)\n",
    "    \n",
    "    dky = np.array([0,dk])\n",
    "    ek_plus_dky = jax_naive_dispersion(k_point + dky)\n",
    "    ek_minus_dky = jax_naive_dispersion(k_point - dky)\n",
    "    grad_ky_ek = (ek_plus_dky - ek_minus_dky)/(2*dk)\n",
    "    \n",
    "    return np.stack([grad_kx_ek, grad_ky_ek])"
   ]
  },
  {
   "cell_type": "markdown",
   "metadata": {
    "editable": true,
    "slideshow": {
     "slide_type": "subslide"
    },
    "tags": []
   },
   "source": [
    "Autodifferentiation IS NOT symbolic differentiation"
   ]
  },
  {
   "cell_type": "code",
   "execution_count": null,
   "metadata": {
    "editable": true,
    "slideshow": {
     "slide_type": "subslide"
    },
    "tags": []
   },
   "outputs": [],
   "source": [
    "\n",
    "def symbolic_gradk_of_dispersion(k, t=1, tp=-0.3, tpp=0.2):\n",
    "    kx, ky = jnp.split(k, 2, axis=-1)\n",
    "    vkx =  (2 * t * jnp.sin(kx) + 4 * tp * jnp.sin(kx)*jnp.cos(ky) + 4 * tpp * jnp.sin(2*kx)).squeeze()\n",
    "    vky =  (2 * t * jnp.sin(ky) + 4 * tp * jnp.cos(kx)*jnp.sin(ky) + 4 * tpp * jnp.sin(2*ky)).squeeze()\n",
    "    return jnp.stack([vkx, vky], axis=-1)"
   ]
  },
  {
   "cell_type": "code",
   "execution_count": null,
   "metadata": {
    "editable": true,
    "slideshow": {
     "slide_type": "subslide"
    },
    "tags": []
   },
   "outputs": [],
   "source": [
    "\n",
    "print(f\"\"\"\n",
    "    symbolic value        : {symbolic_gradk_of_dispersion(k_point)}\n",
    "    jax.grad value         : {grad_k_dispersion(k_point)}\n",
    "    finite difference 1e-5 : {finite_diff_grad_k_dispersion(k_point, 1e-5)}\n",
    "    finite difference 1e-4 : {finite_diff_grad_k_dispersion(k_point, 1e-4)}\n",
    "    finite difference 1e-3 : {finite_diff_grad_k_dispersion(k_point, 1e-3)}\n",
    "    finite difference 1e-2 : {finite_diff_grad_k_dispersion(k_point, 1e-2)}\n",
    "\"\"\")"
   ]
  },
  {
   "cell_type": "markdown",
   "metadata": {
    "editable": true,
    "slideshow": {
     "slide_type": "slide"
    },
    "tags": []
   },
   "source": [
    "# Opening possibilities\n",
    "___"
   ]
  },
  {
   "cell_type": "markdown",
   "metadata": {
    "editable": true,
    "slideshow": {
     "slide_type": "slide"
    },
    "tags": []
   },
   "source": [
    "## Group velocity\n",
    "\n",
    "$$v_n(\\boldsymbol k) = -\\frac{1}{\\hbar} \\nabla_{\\boldsymbol k} \\epsilon(\\boldsymbol k)$$"
   ]
  },
  {
   "cell_type": "code",
   "execution_count": null,
   "metadata": {
    "editable": true,
    "slideshow": {
     "slide_type": "fragment"
    },
    "tags": []
   },
   "outputs": [],
   "source": [
    "velocity = jit(vmap(vmap(grad(jax_naive_dispersion))))\n",
    "vk_on_grid = velocity(grid_k)"
   ]
  },
  {
   "cell_type": "code",
   "execution_count": null,
   "metadata": {
    "editable": true,
    "slideshow": {
     "slide_type": "subslide"
    },
    "tags": []
   },
   "outputs": [],
   "source": [
    "\n",
    "fig = plt.figure()\n",
    "\n",
    "ax1 = fig.add_subplot(121, projection='3d')\n",
    "ax1.plot_surface(grid_kx, grid_ky, vk_on_grid[...,0], cmap='coolwarm')\n",
    "ax1.set_xlabel('$k_x$')\n",
    "ax1.set_ylabel('$k_y$')\n",
    "ax1.set_title('$v_x(\\\\boldsymbol{k})$')\n",
    "\n",
    "ax2 = fig.add_subplot(122, projection='3d')\n",
    "ax2.plot_surface(grid_kx, grid_ky, vk_on_grid[...,1], cmap='coolwarm')\n",
    "ax2.set_xlabel('$k_x$')\n",
    "ax2.set_ylabel('$k_y$')\n",
    "ax2.set_title('$v_y(\\\\boldsymbol{k})$')\n",
    "\n",
    "plt.tight_layout()\n",
    "plt.show()"
   ]
  },
  {
   "cell_type": "code",
   "execution_count": null,
   "metadata": {
    "editable": true,
    "slideshow": {
     "slide_type": "fragment"
    },
    "tags": []
   },
   "outputs": [],
   "source": [
    "%timeit velocity(grid_k)"
   ]
  },
  {
   "cell_type": "code",
   "execution_count": null,
   "metadata": {
    "editable": true,
    "slideshow": {
     "slide_type": "subslide"
    },
    "tags": []
   },
   "outputs": [],
   "source": [
    "jit_symbolic_gradk_of_dispersion = jit(symbolic_gradk_of_dispersion)\n",
    "vk_on_grid = jit_symbolic_gradk_of_dispersion(grid_k)\n",
    "%timeit jit_symbolic_gradk_of_dispersion(grid_k)"
   ]
  },
  {
   "cell_type": "markdown",
   "metadata": {
    "editable": true,
    "slideshow": {
     "slide_type": "slide"
    },
    "tags": []
   },
   "source": [
    "## Density of states"
   ]
  },
  {
   "cell_type": "code",
   "execution_count": null,
   "metadata": {
    "editable": true,
    "slideshow": {
     "slide_type": "fragment"
    },
    "tags": []
   },
   "outputs": [],
   "source": [
    "from tqdm import tqdm\n",
    "dispersion = jit_for_grid"
   ]
  },
  {
   "cell_type": "markdown",
   "metadata": {
    "editable": true,
    "slideshow": {
     "slide_type": "fragment"
    },
    "tags": []
   },
   "source": [
    "Usual spectral_weight approach to the density of state\n",
    "\n",
    "$$ g(\\epsilon) = \\int d^2 k\\, A(\\boldsymbol k, \\omega)  = \\lim_{\\eta\\rightarrow 0}\\int d^2 k\\, \\frac{1}{\\pi} \\frac{\\eta}{(\\omega - E(\\boldsymbol k))^2 + \\eta^2} $$"
   ]
  },
  {
   "cell_type": "code",
   "execution_count": null,
   "metadata": {
    "editable": true,
    "slideshow": {
     "slide_type": "fragment"
    },
    "tags": []
   },
   "outputs": [],
   "source": [
    "def spectral_weight_DOS(dispersion, grid_k, omega_list, eta):\n",
    "    dos_list = []\n",
    "    volume = np.prod(grid_k.shape)\n",
    "    for omega in tqdm(omega_list):\n",
    "        Akw = (1/pi) * eta/((omega - dispersion(grid_k))**2 + eta**2)\n",
    "        dos_list.append(np.sum(Akw) * pi**2/volume)\n",
    "    return dos_list"
   ]
  },
  {
   "cell_type": "code",
   "execution_count": null,
   "metadata": {
    "editable": true,
    "slideshow": {
     "slide_type": "subslide"
    },
    "tags": []
   },
   "outputs": [],
   "source": [
    "omega_list = jnp.linspace(-5,5,500)\n",
    "fig, ax = plt.subplots(1,1, figsize=(4,3))\n",
    "for i, eta in enumerate([0.1, 0.01, 0.001]):\n",
    "    ax.plot(omega_list, spectral_weight_DOS(dispersion, grid_k, omega_list, eta), label=f\"$\\\\eta = {eta}$\", lw=2-i/2)\n",
    "ax.legend()\n",
    "ax.set_xlabel(\"$\\\\omega$\")\n",
    "ax.set_ylabel(\"$g(\\\\omega)$\")\n",
    "plt.show()"
   ]
  },
  {
   "cell_type": "markdown",
   "metadata": {
    "editable": true,
    "slideshow": {
     "slide_type": "subslide"
    },
    "tags": []
   },
   "source": [
    "Alternative using the gradient: surface integral (A&M Eq.8.63) \n",
    "\n",
    "$$ g(\\epsilon) = \\int_{E_{k}=\\epsilon} \\frac{dS}{4\\pi^3} \\frac{1}{|\\nabla_k E(k)|}$$"
   ]
  },
  {
   "cell_type": "code",
   "execution_count": null,
   "metadata": {
    "editable": true,
    "slideshow": {
     "slide_type": "fragment"
    },
    "tags": []
   },
   "outputs": [],
   "source": [
    "from skimage import measure\n",
    "\n",
    "def fermi_surface_DOS(dispersion, omega_list, grid_k):\n",
    "    grad_k_dispersion = jit(vmap(grad(dispersion)))\n",
    "    dos_list = []\n",
    "    for omega in tqdm(omega_list):    \n",
    "        dos_value = 0\n",
    "\n",
    "        ek_on_grid = dispersion(grid_k)\n",
    "        contours = measure.find_contours(np.array(ek_on_grid), omega)\n",
    "        for i, contour in enumerate(contours):\n",
    "            contour = 2*pi * contour /(grid_k.shape[0] - 1) - pi\n",
    "\n",
    "            diffs = np.diff(contour, axis=0)\n",
    "            dl = np.linalg.norm(diffs, axis=-1)    \n",
    "            midpoints = (contour[:-1] + contour[1:]) / 2\n",
    "            dos_k = 1/np.linalg.norm(grad_k_dispersion(midpoints), axis=-1)\n",
    "\n",
    "            dos_value += np.sum(dos_k * dl) / (pi**2)\n",
    "        dos_list.append(dos_value)\n",
    "    return np.array(dos_list)"
   ]
  },
  {
   "cell_type": "code",
   "execution_count": null,
   "metadata": {
    "editable": true,
    "slideshow": {
     "slide_type": "subslide"
    },
    "tags": []
   },
   "outputs": [],
   "source": [
    "low_res = 100\n",
    "low_res_grid_k = np.stack(np.meshgrid(\n",
    "        np.linspace(-pi, pi, low_res),\n",
    "        np.linspace(-pi, pi, low_res),\n",
    "    ), axis=-1)\n",
    "\n",
    "dos_list = fermi_surface_DOS(dispersion, omega_list, low_res_grid_k)\n",
    "\n",
    "fig, ax = plt.subplots(1,1, figsize=(4,3))\n",
    "plt.plot(omega_list, dos_list)\n",
    "ax.set_xlabel(\"$\\\\omega$\")\n",
    "ax.set_ylabel(\"$g(\\\\omega)$\")\n",
    "plt.show()"
   ]
  },
  {
   "cell_type": "markdown",
   "metadata": {
    "editable": true,
    "slideshow": {
     "slide_type": "slide"
    },
    "tags": []
   },
   "source": [
    "## Diagonalization"
   ]
  },
  {
   "cell_type": "code",
   "execution_count": null,
   "metadata": {
    "editable": true,
    "slideshow": {
     "slide_type": "fragment"
    },
    "tags": []
   },
   "outputs": [],
   "source": [
    "\n",
    "def af_bands(k=grid_k, xi=dispersion, m=1.5, Q=jnp.array([pi, pi])):\n",
    "    coupling = m*jnp.ones(k.shape[:-1])\n",
    "    h_on_grid = jnp.array([\n",
    "        [xi(k)     , coupling ],\n",
    "        [coupling  , xi(k + Q)],\n",
    "    ])  # (2,2,...) --> # (...,2,2)\n",
    "    h_on_grid = jnp.moveaxis(h_on_grid, (0,1), (-2,-1))  \n",
    "    E_on_grid = jax.scipy.linalg.eigh(h_on_grid, eigvals_only=True)\n",
    "    return E_on_grid[...,0], E_on_grid[...,1]\n",
    "\n",
    "E1_on_grid, E2_on_grid = af_bands(grid_k)"
   ]
  },
  {
   "cell_type": "code",
   "execution_count": null,
   "metadata": {
    "editable": true,
    "slideshow": {
     "slide_type": "subslide"
    },
    "tags": []
   },
   "outputs": [],
   "source": [
    "fig = plt.figure(figsize=(6,4))\n",
    "ax = fig.add_subplot(121, projection='3d')\n",
    "ax.plot_surface(grid_kx, grid_ky, E1_on_grid, cmap='Blues')\n",
    "ax.plot_surface(grid_kx, grid_ky, E2_on_grid, cmap='Reds')\n",
    "ax.set_xlabel('$k_x$')\n",
    "ax.set_ylabel('$k_y$')\n",
    "plt.tight_layout()\n",
    "plt.show()"
   ]
  },
  {
   "cell_type": "code",
   "execution_count": null,
   "metadata": {
    "editable": true,
    "slideshow": {
     "slide_type": "subslide"
    },
    "tags": []
   },
   "outputs": [],
   "source": [
    "def E1_func(k, m=.5):\n",
    "    return af_bands(k, m=m)[0]\n",
    "\n",
    "def E2_func(k, m=.5):\n",
    "    return af_bands(k, m=m)[1]\n",
    "\n",
    "v1_func = vmap(vmap(grad(E1_func)))\n",
    "v2_func = vmap(vmap(grad(E2_func)))\n",
    "v1_on_grid = v1_func(grid_k)\n",
    "v2_on_grid = v2_func(grid_k)"
   ]
  },
  {
   "cell_type": "code",
   "execution_count": null,
   "metadata": {
    "editable": true,
    "slideshow": {
     "slide_type": "subslide"
    },
    "tags": []
   },
   "outputs": [],
   "source": [
    "from functools import partial\n",
    "\n",
    "dos_of_E = lambda E: fermi_surface_DOS(E, omega_list, low_res_grid_k)\n",
    "\n",
    "fig, ax = plt.subplots(1,3, figsize=(10,3), sharex=True)\n",
    "for i, mval in enumerate([1, 2, 3]):\n",
    "    \n",
    "    E1_at_m = partial(E1_func, m=mval)\n",
    "    E2_at_m = partial(E2_func, m=mval)\n",
    "    \n",
    "    ax[i].set_title(f\"M={mval}\")\n",
    "    ax[i].plot(dos_of_E(E1_at_m), label=\"AF band 1\", lw=3)\n",
    "    ax[i].plot(dos_of_E(E2_at_m), label=\"AF band 2\", lw=3)\n",
    "    ax[i].plot(dos1+dos2, 'k', lw=1, label=\"total\")\n",
    "    ax[i].set_ylabel(\"DOS\")\n",
    "ax[1].legend()\n",
    "ax[2].set_xlabel(\"omega\")\n",
    "plt.tight_layout()\n",
    "plt.show()"
   ]
  },
  {
   "cell_type": "markdown",
   "metadata": {
    "editable": true,
    "slideshow": {
     "slide_type": "slide"
    },
    "tags": []
   },
   "source": [
    "## Root finding"
   ]
  },
  {
   "cell_type": "markdown",
   "metadata": {
    "editable": true,
    "slideshow": {
     "slide_type": "fragment"
    },
    "tags": []
   },
   "source": [
    "$$f(\\mu) = 2\\int_{\\rm BZ} d k\\, \\theta(\\xi(k)-\\mu) - n_0 = 0$$"
   ]
  },
  {
   "cell_type": "code",
   "execution_count": null,
   "metadata": {
    "editable": true,
    "slideshow": {
     "slide_type": "fragment"
    },
    "tags": []
   },
   "outputs": [],
   "source": [
    "from scipy import optimize\n",
    "\n",
    "def filling(dispersion, grid_k):\n",
    "    return 2*jnp.mean(jnp.greater_equal(0, dispersion(grid_k)))\n",
    "\n",
    "def mu_at_filling(dispersion, grid_k, target_n):\n",
    "    n_of_mu_minus_taget = lambda mu: filling(partial(dispersion, mu=mu), grid_k) - target_n\n",
    "    return optimize.root(n_of_mu_minus_taget, (target_n-1)*3.5, method='hybr', jac=grad(n_of_mu_minus_taget)).x"
   ]
  },
  {
   "cell_type": "code",
   "execution_count": null,
   "metadata": {
    "editable": true,
    "slideshow": {
     "slide_type": "fragment"
    },
    "tags": []
   },
   "outputs": [],
   "source": [
    "target_n = 1.2\n",
    "mu_star = mu_at_filling(jit(jax_dispersion_for_grid), grid_k, target_n)\n",
    "\n",
    "print(f\"\"\"\n",
    "    target_n    = {target_n},\n",
    "    solution mu = {mu_star},\n",
    "    n           = {filling(partial(jax_dispersion_for_grid, mu=mu_star), grid_k)}\n",
    "\"\"\")"
   ]
  },
  {
   "cell_type": "markdown",
   "metadata": {
    "editable": true,
    "slideshow": {
     "slide_type": "slide"
    },
    "tags": []
   },
   "source": [
    "### implicit function"
   ]
  },
  {
   "cell_type": "code",
   "execution_count": null,
   "metadata": {
    "editable": true,
    "slideshow": {
     "slide_type": "fragment"
    },
    "tags": []
   },
   "outputs": [],
   "source": [
    "n_of_mu = lambda mu: filling(partial(dispersion, mu=mu), grid_k)\n",
    "mu_list = np.linspace(-5,5,100)\n",
    "nofmu_list = [n_of_mu(mu) for mu in mu_list]"
   ]
  },
  {
   "cell_type": "code",
   "execution_count": null,
   "metadata": {
    "editable": true,
    "slideshow": {
     "slide_type": "fragment"
    },
    "tags": []
   },
   "outputs": [],
   "source": [
    "mu_of_n = partial(mu_at_filling, jit(jax_dispersion_for_grid), grid_k)\n",
    "n_list = np.linspace(0,2,100)\n",
    "muofn_list = [mu_of_n(n) for n in n_list]"
   ]
  },
  {
   "cell_type": "code",
   "execution_count": null,
   "metadata": {
    "editable": true,
    "slideshow": {
     "slide_type": "fragment"
    },
    "tags": []
   },
   "outputs": [],
   "source": [
    "fig, ax = plt.subplots(1,1, figsize=(4,3))\n",
    "plt.plot(nofmu_list, mu_list)\n",
    "plt.plot(n_list, muofn_list)\n",
    "ax.set_xlabel(\"$n$\")\n",
    "ax.set_xlim(0,2)\n",
    "ax.set_ylabel(\"$\\mu$\")\n",
    "ax.set_ylim(-5,5)"
   ]
  },
  {
   "cell_type": "markdown",
   "metadata": {
    "editable": true,
    "slideshow": {
     "slide_type": "subslide"
    },
    "tags": []
   },
   "source": [
    "### Autodiff through implicit function?"
   ]
  },
  {
   "cell_type": "code",
   "execution_count": null,
   "metadata": {
    "editable": true,
    "slideshow": {
     "slide_type": "fragment"
    },
    "tags": []
   },
   "outputs": [],
   "source": [
    "grad_mu_of_n = grad(mu_of_n)\n",
    "grad_mu_of_n(n)"
   ]
  },
  {
   "cell_type": "markdown",
   "metadata": {
    "editable": true,
    "slideshow": {
     "slide_type": "fragment"
    },
    "tags": []
   },
   "source": [
    "Can root finding for $\\mu$ be seen as a fixed point equation?\n",
    "\n",
    "If yes: [Implicit Layers Tutorial](https://implicit-layers-tutorial.org)\n"
   ]
  },
  {
   "cell_type": "markdown",
   "metadata": {
    "editable": true,
    "slideshow": {
     "slide_type": "slide"
    },
    "tags": []
   },
   "source": [
    "# TPSC\n",
    "___"
   ]
  },
  {
   "cell_type": "code",
   "execution_count": null,
   "metadata": {
    "editable": true,
    "slideshow": {
     "slide_type": "fragment"
    },
    "tags": []
   },
   "outputs": [],
   "source": [
    "raise NotImplementedError"
   ]
  }
 ],
 "metadata": {
  "kernelspec": {
   "display_name": "Python 3 (ipykernel)",
   "language": "python",
   "name": "python3"
  },
  "language_info": {
   "codemirror_mode": {
    "name": "ipython",
    "version": 3
   },
   "file_extension": ".py",
   "mimetype": "text/x-python",
   "name": "python",
   "nbconvert_exporter": "python",
   "pygments_lexer": "ipython3",
   "version": "3.12.8"
  },
  "toc": {
   "base_numbering": 1
  }
 },
 "nbformat": 4,
 "nbformat_minor": 4
}
